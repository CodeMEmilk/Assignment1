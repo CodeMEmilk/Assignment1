{
 "cells": [
  {
   "cell_type": "markdown",
   "metadata": {},
   "source": [
    "# Conditional statements"
   ]
  },
  {
   "cell_type": "code",
   "execution_count": 5,
   "metadata": {},
   "outputs": [
    {
     "name": "stdout",
     "output_type": "stream",
     "text": [
      "8 is an even number\n"
     ]
    }
   ],
   "source": [
    "# Q1: To check even or odd number\n",
    "n=int(input(\"Enter any number\"))\n",
    "if n % 2 ==0:\n",
    "    print(f\"{n} is an even number\")\n",
    "else:\n",
    "    print(f\"{n} is odd number\")\n",
    "\n",
    "    \n",
    "      "
   ]
  },
  {
   "cell_type": "code",
   "execution_count": null,
   "metadata": {},
   "outputs": [
    {
     "name": "stdout",
     "output_type": "stream",
     "text": [
      "8 is positive number\n"
     ]
    }
   ],
   "source": [
    "# Q2: To check positive, negative or zero\n",
    "n1=int(input(\"Enter any number\"))\n",
    "if n1 > 0:\n",
    "    print(f\"{n1} is positive number\")\n",
    "elif n1 < 0:\n",
    "    print(f\"{n1} is negative number\")\n",
    "else:\n",
    "    print(f\"{n1} is zero\")\n",
    "    "
   ]
  },
  {
   "cell_type": "code",
   "execution_count": 9,
   "metadata": {},
   "outputs": [
    {
     "name": "stdout",
     "output_type": "stream",
     "text": [
      "You cannot vote\n"
     ]
    }
   ],
   "source": [
    "# Q3: To check eligibility to vote, from given age\n",
    "ag=int(input(\"Enter your age\"))\n",
    "if ag >= 18:\n",
    "    print(\" You can vote\")\n",
    "else:\n",
    "    print(\"You cannot vote\")\n",
    "    "
   ]
  },
  {
   "cell_type": "code",
   "execution_count": null,
   "metadata": {},
   "outputs": [
    {
     "name": "stdout",
     "output_type": "stream",
     "text": [
      "Enter the sides of the Triagnle in format 'A,B,C'\n",
      "The triangle is an Isosceles\n"
     ]
    }
   ],
   "source": [
    "# Q4: To determine type of triangel\n",
    "print(\"Enter each side of the Triagnle as 'A:,B:,C:'\")\n",
    "s1,s2,s3=int(input(\"A:\")),int(input(\"B:\")),int(input(\"C\"))\n",
    "if s1==s2 and s1 == s3:\n",
    "    print(\"The triangel is Equilateral\")\n",
    "elif s1 == s2 or s1 == s3 or s2==s3:\n",
    "    print(\"The triangle is an Isosceles\")\n",
    "else:\n",
    "    print(\"The triangel is Scalene\")\n"
   ]
  },
  {
   "cell_type": "code",
   "execution_count": 14,
   "metadata": {},
   "outputs": [
    {
     "name": "stdout",
     "output_type": "stream",
     "text": [
      "WELCOME\n"
     ]
    }
   ],
   "source": [
    "# Q5: To check password match \n",
    "pre_pass= \"Python123\"\n",
    "in_pass= input(\"Password?  :\")\n",
    "if pre_pass==in_pass:\n",
    "    print(\"WELCOME!!!\")\n",
    "else:\n",
    "    print(\"Invalid password,try again\")\n",
    "    "
   ]
  },
  {
   "cell_type": "code",
   "execution_count": null,
   "metadata": {},
   "outputs": [],
   "source": []
  }
 ],
 "metadata": {
  "kernelspec": {
   "display_name": "Python 3",
   "language": "python",
   "name": "python3"
  },
  "language_info": {
   "codemirror_mode": {
    "name": "ipython",
    "version": 3
   },
   "file_extension": ".py",
   "mimetype": "text/x-python",
   "name": "python",
   "nbconvert_exporter": "python",
   "pygments_lexer": "ipython3",
   "version": "3.13.0"
  }
 },
 "nbformat": 4,
 "nbformat_minor": 2
}
