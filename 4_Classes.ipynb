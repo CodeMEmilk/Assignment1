{
 "cells": [
  {
   "cell_type": "markdown",
   "metadata": {},
   "source": [
    "# Classes"
   ]
  },
  {
   "cell_type": "code",
   "execution_count": 5,
   "metadata": {},
   "outputs": [
    {
     "name": "stdout",
     "output_type": "stream",
     "text": [
      "The area of given rectangle is: 36\n",
      "The parameter of given rectangel is: 13\n"
     ]
    }
   ],
   "source": [
    "# Q1\n",
    "class Rectangle():\n",
    "    length = 9\n",
    "    width = 4\n",
    "    \n",
    "    def area(self):\n",
    "        ar= self.length * self.width\n",
    "        return ar\n",
    "    \n",
    "    def parameter(self):\n",
    "        pa= self.length + self.width\n",
    "        return pa\n",
    "    \n",
    "shape= Rectangle()\n",
    "print(f\"The area of given rectangle is: {shape.area()}\")\n",
    "print(f\"The parameter of given rectangel is: {shape.parameter()}\")"
   ]
  },
  {
   "cell_type": "code",
   "execution_count": 14,
   "metadata": {},
   "outputs": [
    {
     "name": "stdout",
     "output_type": "stream",
     "text": [
      "Name:Salon Roll no:21 Marks:25\n"
     ]
    },
    {
     "data": {
      "text/plain": [
       "False"
      ]
     },
     "execution_count": 14,
     "metadata": {},
     "output_type": "execute_result"
    }
   ],
   "source": [
    "# Q2\n",
    "class Student:\n",
    "    name = \"Salon\"\n",
    "    roll_number= 21\n",
    "    marks = 25\n",
    "\n",
    "    def display_details(self):\n",
    "        print(f\"Name:{self.name} Roll no:{self.roll_number} Marks:{self.marks}\")\n",
    "    \n",
    "    def is_passed(self):\n",
    "        if self.marks >= 40:\n",
    "            return True\n",
    "        else:\n",
    "            return False\n",
    "        \n",
    "St=Student()\n",
    "St.display_details()\n",
    "St.is_passed()\n",
    "    "
   ]
  },
  {
   "cell_type": "code",
   "execution_count": 22,
   "metadata": {},
   "outputs": [
    {
     "name": "stdout",
     "output_type": "stream",
     "text": [
      "Area is 153.9335\n",
      "Parameter is 21.9905\n"
     ]
    }
   ],
   "source": [
    "# Q3\n",
    "class Circle:\n",
    "    radius = 7 \n",
    "\n",
    "    def area(self):\n",
    "        ar = 3.1415 * self.radius ** 2\n",
    "        print(f\"Area is {ar}\" ) \n",
    "\n",
    "    def circumference(self):\n",
    "        cr = 3.1415 * self.radius\n",
    "        print(f\"Parameter is {cr}\")\n",
    "\n",
    "a1=Circle()\n",
    "a1.area()\n",
    "a1.circumference()  "
   ]
  },
  {
   "cell_type": "code",
   "execution_count": 29,
   "metadata": {},
   "outputs": [
    {
     "name": "stdout",
     "output_type": "stream",
     "text": [
      "Account number:1515457 Holder:Salon Rai Balance:1200 \n",
      "Account number:1515457 Holder:Salon Rai Balance:4200 \n"
     ]
    }
   ],
   "source": [
    "# Q4\n",
    "class BankAccount:\n",
    "    account_number = 1515457\n",
    "    account_holder = \"Salon Rai\"\n",
    "    balance = 1200\n",
    "\n",
    "    def deposit(self,discount):\n",
    "        self.balance +=  discount\n",
    "\n",
    "    def withdraw(self,discount):\n",
    "        if self.balance > 0:\n",
    "            self.balance -=  discount \n",
    "        else:\n",
    "            return \"Insufficient Balance\"\n",
    "\n",
    "    def display_balance(self):\n",
    "        print(f\"Account number:{self.account_number} Holder:{self.account_holder} Balance:{self.balance} \")\n",
    "\n",
    "ac=BankAccount()\n",
    "ac.display_balance()\n",
    "ac.deposit(4000) \n",
    "ac.withdraw(1000)\n",
    "ac.display_balance()"
   ]
  },
  {
   "cell_type": "code",
   "execution_count": 30,
   "metadata": {},
   "outputs": [
    {
     "name": "stdout",
     "output_type": "stream",
     "text": [
      "Book:Meditations Author:Marcus Aurellios Price:4500\n",
      "Book:Meditations Author:Marcus Aurellios Price:2700.0\n"
     ]
    }
   ],
   "source": [
    "# Q5\n",
    "class Book:\n",
    "    title = \"Meditations\"\n",
    "    author = \"Marcus Aurellios\"\n",
    "    price = 4500\n",
    "\n",
    "    def apply_discount(self,discount):\n",
    "        self.price -= self.price*discount/100\n",
    "\n",
    "    def display_details(self):\n",
    "        print(f\"Book:{self.title} Author:{self.author} Price:{self.price}\")\n",
    "\n",
    "b1=Book()\n",
    "b1.display_details()\n",
    "b1.apply_discount(40)\n",
    "b1.display_details() \n",
    "\n",
    "    \n"
   ]
  },
  {
   "cell_type": "code",
   "execution_count": 32,
   "metadata": {},
   "outputs": [
    {
     "name": "stdout",
     "output_type": "stream",
     "text": [
      "The addition of the numbers is 12\n",
      "The subrtaction of given numbers is 75\n",
      "The multiplication of given numbers is 72\n",
      "The division of given numbers is 3.0\n"
     ]
    }
   ],
   "source": [
    "# Q6\n",
    "class Calculator:\n",
    "    def add(self,x,y):\n",
    "        print(f\"The addition of the numbers is {x+y}\")\n",
    "    \n",
    "    def subtraction(self,x,y):\n",
    "        print(f\"The subrtaction of given numbers is {x-y}\")\n",
    "\n",
    "    def multiplication(self,x,y):\n",
    "        print(f\"The multiplication of given numbers is {x*y}\")\n",
    "\n",
    "    def division(self,x,y):\n",
    "        print(f\"The division of given numbers is {x/y}\")\n",
    "\n",
    "cal=Calculator()\n",
    "cal.add(4,8)\n",
    "cal.subtraction(84,9)\n",
    "cal.multiplication(8,9)\n",
    "cal.division(9,3)\n",
    "\n"
   ]
  },
  {
   "cell_type": "code",
   "execution_count": 33,
   "metadata": {},
   "outputs": [
    {
     "name": "stdout",
     "output_type": "stream",
     "text": [
      "Hello, my name is Suddip Rai, I am 45 and I am a Male\n",
      "Hello, my name is Suddip Rai, I am 45 and I am a Male and I work as a Lead engineer\n"
     ]
    }
   ],
   "source": [
    "# Q7\n",
    "class Person:\n",
    "    name = \"Suddip Rai\"\n",
    "    age = 45\n",
    "    gender = \"Male\"\n",
    "\n",
    "    def introduce(self):\n",
    "        print(f\"Hello, my name is {self.name}, I am {self.age} and I am a {self.gender}\")\n",
    "\n",
    "class Employee(Person):\n",
    "    job_title= \"Lead engineer\"\n",
    "\n",
    "    def introduce(self):\n",
    "        print(f\"Hello, my name is {self.name}, I am {self.age} and I am a {self.gender} and I work as a {self.job_title}\")\n",
    "\n",
    "P1=Person()\n",
    "P1.introduce()\n",
    "P2=Employee()\n",
    "P2.introduce()\n",
    "\n"
   ]
  }
 ],
 "metadata": {
  "kernelspec": {
   "display_name": "Python 3",
   "language": "python",
   "name": "python3"
  },
  "language_info": {
   "codemirror_mode": {
    "name": "ipython",
    "version": 3
   },
   "file_extension": ".py",
   "mimetype": "text/x-python",
   "name": "python",
   "nbconvert_exporter": "python",
   "pygments_lexer": "ipython3",
   "version": "3.13.0"
  }
 },
 "nbformat": 4,
 "nbformat_minor": 2
}
