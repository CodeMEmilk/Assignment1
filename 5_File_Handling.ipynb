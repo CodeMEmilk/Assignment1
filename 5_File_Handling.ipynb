{
 "cells": [
  {
   "cell_type": "markdown",
   "metadata": {},
   "source": [
    "# File Handling\n"
   ]
  },
  {
   "cell_type": "code",
   "execution_count": 7,
   "metadata": {},
   "outputs": [
    {
     "name": "stdout",
     "output_type": "stream",
     "text": [
      "\n",
      " 1\n",
      " 2\n",
      " 3\n",
      " 4\n",
      " 5\n",
      " 6\n",
      " 7\n",
      " 8\n",
      " 9\n",
      " 10\n"
     ]
    }
   ],
   "source": [
    "# Q1\n",
    "file= open(\"data.txt\",\"w\")\n",
    "for i in range(1,11):\n",
    "    file.write(f\"\\n {i}\")\n",
    "file.close()\n",
    "\n",
    "with open(\"data.txt\",\"r\") as f:\n",
    "    f1=f.read()\n",
    "    print(f1)\n"
   ]
  },
  {
   "cell_type": "code",
   "execution_count": 2,
   "metadata": {},
   "outputs": [
    {
     "name": "stdout",
     "output_type": "stream",
     "text": [
      "There are all together 52 words in the file\n"
     ]
    }
   ],
   "source": [
    "# Q2\n",
    "with open(\"sample.txt\",\"r\") as file1:\n",
    "    count=file1.read()\n",
    "    print(f\"There are all together {len(count.split())} words in the file\")"
   ]
  }
 ],
 "metadata": {
  "kernelspec": {
   "display_name": "Python 3",
   "language": "python",
   "name": "python3"
  },
  "language_info": {
   "codemirror_mode": {
    "name": "ipython",
    "version": 3
   },
   "file_extension": ".py",
   "mimetype": "text/x-python",
   "name": "python",
   "nbconvert_exporter": "python",
   "pygments_lexer": "ipython3",
   "version": "3.13.0"
  }
 },
 "nbformat": 4,
 "nbformat_minor": 2
}
