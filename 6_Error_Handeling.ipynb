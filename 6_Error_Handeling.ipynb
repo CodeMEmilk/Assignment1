{
 "cells": [
  {
   "cell_type": "markdown",
   "metadata": {},
   "source": [
    "# Error Handeling\n"
   ]
  },
  {
   "cell_type": "code",
   "execution_count": 1,
   "metadata": {},
   "outputs": [
    {
     "name": "stdout",
     "output_type": "stream",
     "text": [
      "Enter two numbers.\n",
      "Error type: ZeroDivisionError\n",
      "Operation complete\n"
     ]
    }
   ],
   "source": [
    "# Q1\n",
    "try:\n",
    "    print(\"Enter two numbers.\")\n",
    "    a,b= int(input(\"First number: \")), int(input(\"Second number: \"))\n",
    "    c = a/b\n",
    "    print(c)\n",
    "except Exception as e:\n",
    "    print(f\"Error type: {type(e).__name__}\")\n",
    "else:\n",
    "    print(\"No error\")\n",
    "\n"
   ]
  },
  {
   "cell_type": "code",
   "execution_count": null,
   "metadata": {},
   "outputs": [
    {
     "name": "stdout",
     "output_type": "stream",
     "text": [
      "Valid input\n"
     ]
    }
   ],
   "source": [
    "# Q2\n",
    "try:\n",
    "    n = input(\"Enter an integer please\")\n",
    "    if type(n)==int:\n",
    "        print(n)\n",
    "    else:\n",
    "        o=int(n)\n",
    "\n",
    "except Exception as e:\n",
    "    print(f\"Error type: {type(e).__name__}\")\n",
    "    print(\"Invalid input, please enter an integer\")\n",
    "\n",
    "else:\n",
    "    print(\"Valid input\")\n",
    "\n",
    "        \n",
    "\n",
    "        \n"
   ]
  },
  {
   "cell_type": "code",
   "execution_count": 10,
   "metadata": {},
   "outputs": [
    {
     "name": "stdout",
     "output_type": "stream",
     "text": [
      "Error type: FileNotFoundError\n",
      "The given file is not present. Please check the name and try again.\n"
     ]
    }
   ],
   "source": [
    "# Q3\n",
    "try:\n",
    "    with open(\"unknown.txt\",\"r\") as file:\n",
    "        print(file.read())\n",
    "\n",
    "except Exception as e:                                     \n",
    "    print(f\"Error type: {type(e).__name__}\")               \n",
    "    if type(e).__name__ == \"FileNotFoundError\":\n",
    "        print(\"The given file is not present. Please check the name and try again.\")\n",
    "\n",
    "\n",
    "\n",
    "\n"
   ]
  }
 ],
 "metadata": {
  "kernelspec": {
   "display_name": "Python 3",
   "language": "python",
   "name": "python3"
  },
  "language_info": {
   "codemirror_mode": {
    "name": "ipython",
    "version": 3
   },
   "file_extension": ".py",
   "mimetype": "text/x-python",
   "name": "python",
   "nbconvert_exporter": "python",
   "pygments_lexer": "ipython3",
   "version": "3.13.0"
  }
 },
 "nbformat": 4,
 "nbformat_minor": 2
}
