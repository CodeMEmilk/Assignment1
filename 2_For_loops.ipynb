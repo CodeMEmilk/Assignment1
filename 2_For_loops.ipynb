{
 "cells": [
  {
   "cell_type": "markdown",
   "metadata": {},
   "source": [
    "# For loops"
   ]
  },
  {
   "cell_type": "code",
   "execution_count": null,
   "metadata": {},
   "outputs": [
    {
     "name": "stdout",
     "output_type": "stream",
     "text": [
      "5 * 1  = 5\n",
      "5 * 2  = 10\n",
      "5 * 3  = 15\n",
      "5 * 4  = 20\n",
      "5 * 5  = 25\n",
      "5 * 6  = 30\n",
      "5 * 7  = 35\n",
      "5 * 8  = 40\n",
      "5 * 9  = 45\n",
      "5 * 10  = 50\n"
     ]
    }
   ],
   "source": [
    "n=int(input(\"Enter a number\"))\n",
    "for i in range (1,11):\n",
    "    print(n ,\"*\", i ,\" =\", n*i )\n"
   ]
  },
  {
   "cell_type": "code",
   "execution_count": 28,
   "metadata": {},
   "outputs": [
    {
     "name": "stdout",
     "output_type": "stream",
     "text": [
      "There are 5 vowles in the given word\n"
     ]
    }
   ],
   "source": [
    "v=[\"a\",\"e\",\"i\",\"o\",\"u\"]\n",
    "ca=0\n",
    "word=input(\"Enter a word\")\n",
    "for i in range(len(v)):\n",
    "   cn=word.count(v[i])\n",
    "   ca=ca+cn\n",
    "print(f\"There are {ca} vowles in the given word\")\n",
    "\n",
    "\n"
   ]
  },
  {
   "cell_type": "code",
   "execution_count": 29,
   "metadata": {},
   "outputs": [
    {
     "name": "stdout",
     "output_type": "stream",
     "text": [
      "[2, 4, 6, 8, 10] is the given list\n",
      "The sum is 30\n"
     ]
    }
   ],
   "source": [
    "s=[2,4,6,8,10]\n",
    "an=0\n",
    "print(f\"{s} is the given list\" )\n",
    "for i in range(len(s)):\n",
    "    an=an+s[i]\n",
    "print(f\"The sum is {an}\")"
   ]
  },
  {
   "cell_type": "code",
   "execution_count": 32,
   "metadata": {},
   "outputs": [
    {
     "name": "stdout",
     "output_type": "stream",
     "text": [
      "57 is the largest and 3 is the smallest in the list\n"
     ]
    }
   ],
   "source": [
    "sr=[10,9,8,7,20,23,57,3,4,5]\n",
    "ln,sn=sr[0],sr[0]\n",
    "for i in range(len(sr)):\n",
    "    if ln < sr[i]:\n",
    "        ln = sr[i] \n",
    "    if sn > sr[i]:\n",
    "        sn = sr[i]\n",
    "print (f\"{ln} is the largest and {sn} is the smallest in the list\" )\n"
   ]
  },
  {
   "cell_type": "code",
   "execution_count": 36,
   "metadata": {},
   "outputs": [
    {
     "name": "stdout",
     "output_type": "stream",
     "text": [
      "The sum of the digits of given 8889457 is 49\n"
     ]
    }
   ],
   "source": [
    "nm= input(\"Enter a number,\") \n",
    "sm=0\n",
    "for i in nm:\n",
    "    sm += int(i)  \n",
    "print(f\"The sum of the digits of given {nm} is {sm}\")"
   ]
  },
  {
   "cell_type": "code",
   "execution_count": 42,
   "metadata": {},
   "outputs": [
    {
     "name": "stdout",
     "output_type": "stream",
     "text": [
      " The given string is 'loop'\n",
      "The reverse of the given string is 'pool'\n"
     ]
    }
   ],
   "source": [
    "sg = input(\"Enter a string:  \")\n",
    "rsg=\"\"\n",
    "for i in range(len(sg),0,-1):\n",
    "    rsg =  rsg  + sg[i-1]\n",
    "print(f\" The given string is '{sg}'\" ) \n",
    "print(f\"The reverse of the given string is '{rsg}'\")\n"
   ]
  }
 ],
 "metadata": {
  "kernelspec": {
   "display_name": "Python 3",
   "language": "python",
   "name": "python3"
  },
  "language_info": {
   "codemirror_mode": {
    "name": "ipython",
    "version": 3
   },
   "file_extension": ".py",
   "mimetype": "text/x-python",
   "name": "python",
   "nbconvert_exporter": "python",
   "pygments_lexer": "ipython3",
   "version": "3.13.0"
  }
 },
 "nbformat": 4,
 "nbformat_minor": 2
}
