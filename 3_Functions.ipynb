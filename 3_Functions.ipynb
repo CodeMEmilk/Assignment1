{
 "cells": [
  {
   "cell_type": "markdown",
   "metadata": {},
   "source": [
    "#Funcitons"
   ]
  },
  {
   "cell_type": "code",
   "execution_count": 5,
   "metadata": {},
   "outputs": [
    {
     "name": "stdout",
     "output_type": "stream",
     "text": [
      "the factorial of given number is 171\n"
     ]
    }
   ],
   "source": [
    "# Q1: Factorial program \n",
    "def factorial(n):\n",
    "    z = 0\n",
    "    for i in range(n+1):\n",
    "        z += i\n",
    "    return z   \n",
    "\n",
    "\n",
    "num=int(input(\"Enter a number\"))\n",
    "ans=factorial(num)\n",
    "print(f\"The factorial of given number is {ans}\")"
   ]
  },
  {
   "cell_type": "code",
   "execution_count": 25,
   "metadata": {},
   "outputs": [
    {
     "name": "stdout",
     "output_type": "stream",
     "text": [
      "It is False that the given number is prime \n"
     ]
    }
   ],
   "source": [
    "# Q2: To check prime number\n",
    "def is_prime(n):\n",
    "    for i in range (2,n):\n",
    "        if n % i == 0:\n",
    "            return False \n",
    "    return True\n",
    "\n",
    "x = int(input(\"Enter the number\"))\n",
    "prime=is_prime(x)\n",
    "print(f\"It is {prime} that the given number is prime \") "
   ]
  },
  {
   "cell_type": "code",
   "execution_count": 28,
   "metadata": {},
   "outputs": [
    {
     "name": "stdout",
     "output_type": "stream",
     "text": [
      "55 is the largest number\n"
     ]
    }
   ],
   "source": [
    "# Q3: To find the largest number in a list\n",
    "def find_max(lst):\n",
    "    a= lst[0]\n",
    "    for i in range(len(lst)):\n",
    "        if a < lst[i]:\n",
    "            a = lst[i]\n",
    "    return a  \n",
    "\n",
    "v=[1,4,8,9,55,5,6,11,2]\n",
    "print(f\"{find_max(v)} is the largest number\")\n"
   ]
  },
  {
   "cell_type": "code",
   "execution_count": 36,
   "metadata": {},
   "outputs": [
    {
     "name": "stdout",
     "output_type": "stream",
     "text": [
      "It is False that the given String is a a palindrome\n"
     ]
    }
   ],
   "source": [
    "# Q4: To check whether a word is a palindrome\n",
    "def palindrome_check(string):\n",
    "    rsg=\"\"\n",
    "    for i in range(len(string),0,-1):\n",
    "        rsg += string[i-1]\n",
    "    if rsg == string:\n",
    "        return True\n",
    "    else:\n",
    "        return False\n",
    "    \n",
    "STR=input(\"Enter the string:  \")\n",
    "print(f\"It is {palindrome_check(STR)} that the given String is a a palindrome\")\n"
   ]
  },
  {
   "cell_type": "code",
   "execution_count": 43,
   "metadata": {},
   "outputs": [
    {
     "name": "stdout",
     "output_type": "stream",
     "text": [
      "The sum of squares of 5 first natural numbers is 55 \n"
     ]
    }
   ],
   "source": [
    "# Q5: To the find the sum of first n natural numbers\n",
    "# Q6 was Q5 repeated.\n",
    "def sum_of_squares(n):\n",
    "    c=0\n",
    "    for i in range(n+1):\n",
    "        c+= i**2\n",
    "    return c \n",
    "\n",
    "N=int(input(\"Enter a natural numbe:  \"))\n",
    "print(f\"The sum of squares of {N} first natural numbers is {sum_of_squares(N)} \")\n",
    "      "
   ]
  },
  {
   "cell_type": "code",
   "execution_count": null,
   "metadata": {},
   "outputs": [],
   "source": []
  }
 ],
 "metadata": {
  "kernelspec": {
   "display_name": "Python 3",
   "language": "python",
   "name": "python3"
  },
  "language_info": {
   "codemirror_mode": {
    "name": "ipython",
    "version": 3
   },
   "file_extension": ".py",
   "mimetype": "text/x-python",
   "name": "python",
   "nbconvert_exporter": "python",
   "pygments_lexer": "ipython3",
   "version": "3.13.0"
  }
 },
 "nbformat": 4,
 "nbformat_minor": 2
}
